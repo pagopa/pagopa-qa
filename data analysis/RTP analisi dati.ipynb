{
 "cells": [
  {
   "cell_type": "markdown",
   "metadata": {},
   "source": [
    "# Analisi Dati PII RTP\n",
    "\n",
    "Lo script è realizzato per anonimizzare un qualsiasi dataset fornito in input mediante accesso al DataLake.\n",
    "Nella fattispecie si utilizza il database pagoPA"
   ]
  },
  {
   "cell_type": "markdown",
   "metadata": {},
   "source": [
    "## Caricamento librerie ed import recognizers"
   ]
  },
  {
   "cell_type": "code",
   "execution_count": 1,
   "metadata": {
    "scrolled": true
   },
   "outputs": [],
   "source": [
    "from presidio_analyzer import AnalyzerEngine\n",
    "from presidio_anonymizer import AnonymizerEngine\n",
    "from presidio_analyzer.nlp_engine import NlpEngineProvider\n",
    "from presidio_analyzer import PatternRecognizer, Pattern"
   ]
  },
  {
   "cell_type": "code",
   "execution_count": 2,
   "metadata": {},
   "outputs": [],
   "source": [
    "import cml.data_v1 as cmldata"
   ]
  },
  {
   "cell_type": "markdown",
   "metadata": {},
   "source": [
    "## Connessione DataLake & recupero dati"
   ]
  },
  {
   "cell_type": "code",
   "execution_count": 3,
   "metadata": {
    "scrolled": true
   },
   "outputs": [
    {
     "data": {
      "text/plain": [
       "<impala.hiveserver2.HiveServer2Connection at 0x7fd5f1bba260>"
      ]
     },
     "execution_count": 3,
     "metadata": {},
     "output_type": "execute_result"
    }
   ],
   "source": [
    "CONNECTION_NAME = \"dl-analysis-impala-vw\"\n",
    "conn = cmldata.get_connection(CONNECTION_NAME)\n",
    "\n",
    "## Sample Usage to get pandas data frame\n",
    "QUERY = \"\"\"\n",
    "select po.after.description\n",
    "from pagopa.silver_gpd_payment_position pp\n",
    "INNER JOIN pagopa.silver_gpd_payment_option po ON pp.after.id = po.after.payment_position_id\n",
    "INNER JOIN pagopa.silver_gpd_transfer t ON t.after.payment_option_id = po.after.id\n",
    "WHERE \n",
    "-- Regione Veneto Bollo Auto\n",
    "pp.after.status IN (\"PAID\",\"REPORTED\")\n",
    "AND t.after.category IN (\"0301105TS\")\n",
    "AND pp.after.organization_fiscal_code = \"80007580279\"\n",
    "\n",
    "-- Regione Veneto TARI\n",
    "-- pp.after.status in ('PAID','REPORTED')\n",
    "-- and t.after.category in ('0201102IM', '0201133IM', '0101109IM','0101101IM')\n",
    "-- and pp.after.organization_fiscal_code not in ('00145130597','00327470795','80002670604','81003590593')\n",
    "-- LIMIT 5\n",
    "\"\"\"\n",
    "\n",
    "dataframe = conn.get_pandas_dataframe(QUERY)\n",
    "# print(dataframe)\n",
    "# Closing the connection\n",
    "conn.close()\n"
   ]
  },
  {
   "cell_type": "markdown",
   "metadata": {},
   "source": [
    "## Configurazione della lingua"
   ]
  },
  {
   "cell_type": "code",
   "execution_count": 4,
   "metadata": {},
   "outputs": [],
   "source": [
    "# NLP engine configuration (Spacy)\n",
    "nlp_config = {\n",
    "    \"nlp_engine_name\": \"spacy\",\n",
    "    \"models\": [{\"lang_code\": \"it\", \"model_name\": \"it_core_news_lg\"}],\n",
    "}\n",
    "provider = NlpEngineProvider(nlp_configuration=nlp_config)\n",
    "nlp_engine_with_italian = provider.create_engine()\n"
   ]
  },
  {
   "cell_type": "markdown",
   "metadata": {},
   "source": [
    "## Definizione del custom patter per le targhe"
   ]
  },
  {
   "cell_type": "code",
   "execution_count": 5,
   "metadata": {},
   "outputs": [],
   "source": [
    "# Custom recognizer for Italian vehicle plates\n",
    "#plate_pattern = Pattern(name=\"IT_VEHICLE_PLATE\", regex=r\"[A-Z]{2}\\d{3}[A-Z]{2}|[A-Z]{2}\\d{4}[A-Z]{2}|\\d{2}[A-Z]{3}\\d{2}\", score=0.8)\n",
    "plate_pattern = Pattern(name=\"IT_VEHICLE_PLATE\", regex=r\"\\b([A-Z]{2}\\d{3}[A-Z]{2}|\\d{2}[A-Z]{2}\\d{2}|[A-Z]{2}\\d{5}|\\d{2}[A-Z]{3}\\d{2})\\b\", score=0.8)\n",
    "\n",
    "plate_recognizer = PatternRecognizer(patterns=[plate_pattern], supported_entity=\"IT_VEHICLE_PLATE\", name=\"IT_VEHICLE_PLATE\", supported_language=\"it\")\n"
   ]
  },
  {
   "cell_type": "markdown",
   "metadata": {},
   "source": [
    "## Inizializzazione di Presidio "
   ]
  },
  {
   "cell_type": "code",
   "execution_count": 6,
   "metadata": {},
   "outputs": [],
   "source": [
    "# Initialize Presidio with the custom recognizer\n",
    "analyzer = AnalyzerEngine(\n",
    "    supported_languages=[\"en\", \"it\"],\n",
    "    nlp_engine=nlp_engine_with_italian,\n",
    ")\n",
    "analyzer.registry.add_recognizer(plate_recognizer)\n",
    "\n",
    "anonymizer = AnonymizerEngine()\n",
    "\n",
    "# Entities to detect (including IT_VEHICLE_PLATE)\n",
    "entities = [\n",
    "    \"IT_VEHICLE_PLATE\",  # Include Italian vehicle plates\n",
    "    \"IT_FISCAL_CODE\",\n",
    "    \"IT_DRIVER_LICENSE\", \n",
    "    \"IT_VAT_CODE\",       \n",
    "    \"IT_PASSPORT\",       \n",
    "    \"IT_IDENTITY_CARD\",  \n",
    "    \"CREDIT_CARD\",       \n",
    "    \"DATE_TIME\",         \n",
    "    \"EMAIL_ADDRESS\",     \n",
    "    \"IBAN_CODE\",         \n",
    "    \"PERSON\",            \n",
    "    \"PHONE_NUMBER\",      \n",
    "]"
   ]
  },
  {
   "cell_type": "markdown",
   "metadata": {},
   "source": [
    "## Analyzer & Anonymizer"
   ]
  },
  {
   "cell_type": "code",
   "execution_count": 7,
   "metadata": {
    "editable": true,
    "slideshow": {
     "slide_type": ""
    },
    "tags": []
   },
   "outputs": [
    {
     "name": "stdout",
     "output_type": "stream",
     "text": [
      "Inizio anonimizzazione con multiprocessing...\n",
      "Elaborazione progresso: 1/1229953 righe completate.\n"
     ]
    },
    {
     "name": "stderr",
     "output_type": "stream",
     "text": [
      "  4%|▍         | 49959/1229953 [01:09<26:30, 741.72it/s]"
     ]
    },
    {
     "name": "stdout",
     "output_type": "stream",
     "text": [
      "Elaborazione progresso: 50001/1229953 righe completate.\n"
     ]
    },
    {
     "name": "stderr",
     "output_type": "stream",
     "text": [
      "  8%|▊         | 99988/1229953 [02:20<28:10, 668.39it/s]"
     ]
    },
    {
     "name": "stdout",
     "output_type": "stream",
     "text": [
      "Elaborazione progresso: 100001/1229953 righe completate.\n"
     ]
    },
    {
     "name": "stderr",
     "output_type": "stream",
     "text": [
      " 12%|█▏        | 149941/1229953 [03:30<26:36, 676.37it/s]"
     ]
    },
    {
     "name": "stdout",
     "output_type": "stream",
     "text": [
      "Elaborazione progresso: 150001/1229953 righe completate.\n"
     ]
    },
    {
     "name": "stderr",
     "output_type": "stream",
     "text": [
      " 16%|█▋        | 199971/1229953 [04:41<23:41, 724.61it/s]"
     ]
    },
    {
     "name": "stdout",
     "output_type": "stream",
     "text": [
      "Elaborazione progresso: 200001/1229953 righe completate.\n"
     ]
    },
    {
     "name": "stderr",
     "output_type": "stream",
     "text": [
      " 20%|██        | 249976/1229953 [05:53<22:00, 742.22it/s]"
     ]
    },
    {
     "name": "stdout",
     "output_type": "stream",
     "text": [
      "Elaborazione progresso: 250001/1229953 righe completate.\n"
     ]
    },
    {
     "name": "stderr",
     "output_type": "stream",
     "text": [
      " 24%|██▍       | 299945/1229953 [07:03<21:12, 730.59it/s]"
     ]
    },
    {
     "name": "stdout",
     "output_type": "stream",
     "text": [
      "Elaborazione progresso: 300001/1229953 righe completate.\n"
     ]
    },
    {
     "name": "stderr",
     "output_type": "stream",
     "text": [
      " 28%|██▊       | 349951/1229953 [08:13<22:34, 649.62it/s]"
     ]
    },
    {
     "name": "stdout",
     "output_type": "stream",
     "text": [
      "Elaborazione progresso: 350001/1229953 righe completate.\n"
     ]
    },
    {
     "name": "stderr",
     "output_type": "stream",
     "text": [
      " 33%|███▎      | 399938/1229953 [09:24<19:59, 692.16it/s]"
     ]
    },
    {
     "name": "stdout",
     "output_type": "stream",
     "text": [
      "Elaborazione progresso: 400001/1229953 righe completate.\n"
     ]
    },
    {
     "name": "stderr",
     "output_type": "stream",
     "text": [
      " 37%|███▋      | 449920/1229953 [10:34<17:40, 735.21it/s]"
     ]
    },
    {
     "name": "stdout",
     "output_type": "stream",
     "text": [
      "Elaborazione progresso: 450001/1229953 righe completate."
     ]
    },
    {
     "name": "stderr",
     "output_type": "stream",
     "text": [
      " 37%|███▋      | 449996/1229953 [10:35<17:31, 741.45it/s]"
     ]
    },
    {
     "name": "stdout",
     "output_type": "stream",
     "text": [
      "\n"
     ]
    },
    {
     "name": "stderr",
     "output_type": "stream",
     "text": [
      " 41%|████      | 499972/1229953 [11:46<16:21, 743.50it/s]"
     ]
    },
    {
     "name": "stdout",
     "output_type": "stream",
     "text": [
      "Elaborazione progresso: 500001/1229953 righe completate.\n"
     ]
    },
    {
     "name": "stderr",
     "output_type": "stream",
     "text": [
      " 45%|████▍     | 549938/1229953 [12:57<15:55, 711.43it/s]"
     ]
    },
    {
     "name": "stdout",
     "output_type": "stream",
     "text": [
      "Elaborazione progresso: 550001/1229953 righe completate.\n"
     ]
    },
    {
     "name": "stderr",
     "output_type": "stream",
     "text": [
      " 53%|█████▎    | 649946/1229953 [15:17<13:22, 722.70it/s]"
     ]
    },
    {
     "name": "stdout",
     "output_type": "stream",
     "text": [
      "Elaborazione progresso: 650001/1229953 righe completate.\n"
     ]
    },
    {
     "name": "stderr",
     "output_type": "stream",
     "text": [
      " 57%|█████▋    | 699909/1229953 [16:27<10:50, 815.32it/s]"
     ]
    },
    {
     "name": "stdout",
     "output_type": "stream",
     "text": [
      "Elaborazione progresso: 700001/1229953 righe completate.\n"
     ]
    },
    {
     "name": "stderr",
     "output_type": "stream",
     "text": [
      " 61%|██████    | 749985/1229953 [17:38<11:38, 687.24it/s]"
     ]
    },
    {
     "name": "stdout",
     "output_type": "stream",
     "text": [
      "Elaborazione progresso: 750001/1229953 righe completate.\n"
     ]
    },
    {
     "name": "stderr",
     "output_type": "stream",
     "text": [
      " 65%|██████▌   | 799954/1229953 [18:48<09:21, 766.18it/s]"
     ]
    },
    {
     "name": "stdout",
     "output_type": "stream",
     "text": [
      "Elaborazione progresso: 800001/1229953 righe completate.\n"
     ]
    },
    {
     "name": "stderr",
     "output_type": "stream",
     "text": [
      " 69%|██████▉   | 849950/1229953 [19:59<09:03, 699.55it/s]"
     ]
    },
    {
     "name": "stdout",
     "output_type": "stream",
     "text": [
      "Elaborazione progresso: 850001/1229953 righe completate.\n"
     ]
    },
    {
     "name": "stderr",
     "output_type": "stream",
     "text": [
      " 73%|███████▎  | 899959/1229953 [21:08<07:35, 724.02it/s]"
     ]
    },
    {
     "name": "stdout",
     "output_type": "stream",
     "text": [
      "Elaborazione progresso: 900001/1229953 righe completate.\n"
     ]
    },
    {
     "name": "stderr",
     "output_type": "stream",
     "text": [
      " 77%|███████▋  | 949959/1229953 [22:17<06:16, 743.20it/s]"
     ]
    },
    {
     "name": "stdout",
     "output_type": "stream",
     "text": [
      "Elaborazione progresso: 950001/1229953 righe completate.\n"
     ]
    },
    {
     "name": "stderr",
     "output_type": "stream",
     "text": [
      " 81%|████████▏ | 999943/1229953 [23:27<05:25, 707.51it/s]"
     ]
    },
    {
     "name": "stdout",
     "output_type": "stream",
     "text": [
      "Elaborazione progresso: 1000001/1229953 righe completate.\n"
     ]
    },
    {
     "name": "stderr",
     "output_type": "stream",
     "text": [
      " 85%|████████▌ | 1049932/1229953 [24:37<04:01, 746.43it/s]"
     ]
    },
    {
     "name": "stdout",
     "output_type": "stream",
     "text": [
      "Elaborazione progresso: 1050001/1229953 righe completate.\n"
     ]
    },
    {
     "name": "stderr",
     "output_type": "stream",
     "text": [
      " 89%|████████▉ | 1099972/1229953 [25:47<03:12, 676.02it/s]"
     ]
    },
    {
     "name": "stdout",
     "output_type": "stream",
     "text": [
      "Elaborazione progresso: 1100001/1229953 righe completate.\n"
     ]
    },
    {
     "name": "stderr",
     "output_type": "stream",
     "text": [
      " 98%|█████████▊| 1199993/1229953 [28:09<00:39, 755.84it/s]"
     ]
    },
    {
     "name": "stdout",
     "output_type": "stream",
     "text": [
      "Elaborazione progresso: 1200001/1229953 righe completate.\n"
     ]
    },
    {
     "name": "stderr",
     "output_type": "stream",
     "text": [
      "100%|█████████▉| 1229911/1229953 [28:52<00:00, 682.92it/s]"
     ]
    },
    {
     "name": "stdout",
     "output_type": "stream",
     "text": [
      "Elaborazione progresso: 1229953/1229953 righe completate.\n"
     ]
    },
    {
     "name": "stderr",
     "output_type": "stream",
     "text": [
      "100%|██████████| 1229953/1229953 [28:52<00:00, 709.96it/s]\n"
     ]
    },
    {
     "name": "stdout",
     "output_type": "stream",
     "text": [
      "Anonimizzazione completata.\n",
      "CSV generato con successo: anonimizzati.csv\n"
     ]
    }
   ],
   "source": [
    "# Funzione per anonimizzare il testo\n",
    "import pandas as pd\n",
    "from concurrent.futures import ProcessPoolExecutor\n",
    "from tqdm import tqdm\n",
    "\n",
    "# Funzione per anonimizzare il testo\n",
    "def anonymize_text(text):\n",
    "    if not text:\n",
    "        return text\n",
    "    results = analyzer.analyze(text=text, entities=entities, language=\"it\")\n",
    "    return anonymizer.anonymize(text=text, analyzer_results=results).text\n",
    "\n",
    "# Funzione wrapper per multiprocessing\n",
    "def anonymize_wrapper(args):\n",
    "    text, index, total = args\n",
    "    if index % 50000 == 0 or index == total - 1:\n",
    "        print(f\"Elaborazione progresso: {index+1}/{total} righe completate.\")\n",
    "    return anonymize_text(text)\n",
    "\n",
    "print(\"Inizio anonimizzazione con multiprocessing...\")\n",
    "\n",
    "# Configurazione tqdm\n",
    "tqdm.pandas()\n",
    "\n",
    "# Parallelizzazione con ProcessPoolExecutor\n",
    "with ProcessPoolExecutor() as executor:\n",
    "    dataframe[\"description_anon\"] = list(\n",
    "        tqdm(executor.map(anonymize_wrapper, zip(dataframe[\"after.description\"], range(len(dataframe)), [len(dataframe)] * len(dataframe))), \n",
    "             total=len(dataframe))\n",
    "    )\n",
    "\n",
    "print(\"Anonimizzazione completata.\")\n",
    "\n",
    "# Salvataggio finale\n",
    "dataframe.to_csv(\"anonimizzati.csv\", index=False)\n",
    "print(\"CSV generato con successo: anonimizzati.csv\")\n"
   ]
  },
  {
   "cell_type": "markdown",
   "metadata": {},
   "source": [
    "## Elaboro file csv e calcolo risultati di analisi"
   ]
  },
  {
   "cell_type": "code",
   "execution_count": 8,
   "metadata": {
    "editable": true,
    "slideshow": {
     "slide_type": ""
    },
    "tags": []
   },
   "outputs": [
    {
     "name": "stdout",
     "output_type": "stream",
     "text": [
      "Righe totali: 1229953\n",
      "IT_VEHICLE_PLATE -> 1079196\n",
      "IT_FISCAL_CODE -> 781119\n",
      "DATE_TIME -> 559714\n",
      "PERSON -> 280587\n",
      "PHONE_NUMBER -> 959364\n",
      "IT_VAT_CODE -> 145906\n",
      "IT_IDENTITY_CARD -> 20\n",
      "CREDIT_CARD -> 1\n",
      "\n",
      "Combinazioni di entità trovate:\n",
      "SOLO IT_VEHICLE_PLATE -> 235252\n",
      "DATE_TIME-IT_FISCAL_CODE-IT_VEHICLE_PLATE-PERSON-PHONE_NUMBER -> 104331\n",
      "IT_FISCAL_CODE-IT_VEHICLE_PLATE-PHONE_NUMBER -> 211020\n",
      "DATE_TIME-IT_FISCAL_CODE-IT_VEHICLE_PLATE-PHONE_NUMBER -> 307236\n",
      "DATE_TIME-IT_FISCAL_CODE-PERSON-PHONE_NUMBER -> 44431\n",
      "DATE_TIME-IT_FISCAL_CODE-PHONE_NUMBER -> 46376\n",
      "DATE_TIME-IT_VAT_CODE-IT_VEHICLE_PLATE-PERSON-PHONE_NUMBER -> 7408\n",
      "DATE_TIME-IT_VAT_CODE-IT_VEHICLE_PLATE-PHONE_NUMBER -> 22152\n",
      "DATE_TIME-IT_VEHICLE_PLATE-PERSON-PHONE_NUMBER -> 18951\n",
      "IT_FISCAL_CODE-IT_VEHICLE_PLATE-PERSON-PHONE_NUMBER -> 54086\n",
      "DATE_TIME-IT_VAT_CODE-PHONE_NUMBER -> 1545\n",
      "SOLO PERSON -> 6761\n",
      "IT_VAT_CODE-IT_VEHICLE_PLATE-PHONE_NUMBER -> 93943\n",
      "DATE_TIME-PERSON-PHONE_NUMBER -> 3222\n",
      "IT_VAT_CODE-IT_VEHICLE_PLATE-PERSON-PHONE_NUMBER -> 12004\n",
      "IT_FISCAL_CODE-PERSON-PHONE_NUMBER -> 6052\n",
      "DATE_TIME-IT_VAT_CODE-PERSON-PHONE_NUMBER -> 4028\n",
      "IT_VEHICLE_PLATE-PERSON-PHONE_NUMBER -> 12806\n",
      "IT_FISCAL_CODE-PERSON -> 2801\n",
      "IT_VAT_CODE-PERSON-PHONE_NUMBER -> 2950\n",
      "IT_FISCAL_CODE-PHONE_NUMBER -> 4755\n",
      "IT_VAT_CODE-PHONE_NUMBER -> 1573\n",
      "PERSON-PHONE_NUMBER -> 461\n",
      "IT_VAT_CODE-PERSON -> 293\n",
      "IT_VEHICLE_PLATE-PERSON -> 1\n",
      "DATE_TIME-IT_FISCAL_CODE-IT_VAT_CODE-PHONE_NUMBER -> 8\n",
      "SOLO PHONE_NUMBER -> 2\n",
      "DATE_TIME-IT_VEHICLE_PLATE -> 3\n",
      "DATE_TIME-IT_FISCAL_CODE-IT_IDENTITY_CARD-PHONE_NUMBER -> 20\n",
      "CREDIT_CARD-DATE_TIME-IT_FISCAL_CODE-PHONE_NUMBER -> 1\n",
      "SOLO IT_VAT_CODE -> 1\n",
      "IT_VEHICLE_PLATE-PHONE_NUMBER -> 2\n",
      "DATE_TIME-IT_FISCAL_CODE-IT_VEHICLE_PLATE -> 1\n",
      "DATE_TIME-IT_FISCAL_CODE-IT_VAT_CODE-PERSON-PHONE_NUMBER -> 1\n",
      "\n",
      "Statistiche specifiche:\n",
      "IT_VEHICLE_PLATE e/o IT_FISCAL_CODE e/o IT_VAT_CODE -> 1194031 (97.08%)\n",
      "Nessuno tra IT_VEHICLE_PLATE, IT_FISCAL_CODE, IT_VAT_CODE -> 35922 (2.92%)\n"
     ]
    },
    {
     "data": {
      "image/png": "[encoded data removed]",
      "text/plain": [
       "<Figure size 800x600 with 1 Axes>"
      ]
     },
     "metadata": {},
     "output_type": "display_data"
    }
   ],
   "source": [
    "import csv\n",
    "from collections import Counter\n",
    "import matplotlib.pyplot as plt\n",
    "\n",
    "# Definizione delle entità da cercare\n",
    "ENTITIES = [\n",
    "    \"IT_FISCAL_CODE\",\n",
    "    \"IT_DRIVER_LICENSE\",\n",
    "    \"IT_VAT_CODE\",\n",
    "    \"IT_PASSPORT\",\n",
    "    \"IT_IDENTITY_CARD\",\n",
    "    \"CREDIT_CARD\",\n",
    "    \"DATE_TIME\",\n",
    "    \"EMAIL_ADDRESS\",\n",
    "    \"IBAN_CODE\",\n",
    "    \"PERSON\",\n",
    "    \"PHONE_NUMBER\",\n",
    "    \"IT_VEHICLE_PLATE\"\n",
    "]\n",
    "\n",
    "def analyze_csv(file_path):\n",
    "    total_rows = 0\n",
    "    entity_counts = Counter()\n",
    "    combination_counts = Counter()\n",
    "    \n",
    "    targ_cf_vat_count = 0\n",
    "    neither_targ_cf_vat_count = 0\n",
    "    \n",
    "    with open(file_path, newline='', encoding='utf-8') as csvfile:\n",
    "        reader = csv.DictReader(csvfile)\n",
    "        \n",
    "        for row in reader:\n",
    "            total_rows += 1\n",
    "            description_anon = row['description_anon']\n",
    "            found_entities = [entity for entity in ENTITIES if f'<{entity}>' in description_anon]\n",
    "            \n",
    "            for entity in found_entities:\n",
    "                entity_counts[entity] += 1\n",
    "            \n",
    "            if len(found_entities) == 1:\n",
    "                combination_counts[f'SOLO {found_entities[0]}'] += 1\n",
    "            elif found_entities:\n",
    "                combination_counts['-'.join(sorted(found_entities))] += 1\n",
    "            \n",
    "            # Contatori specifici\n",
    "            has_targa = \"IT_VEHICLE_PLATE\" in found_entities\n",
    "            has_cf = \"IT_FISCAL_CODE\" in found_entities\n",
    "            has_vat = \"IT_VAT_CODE\" in found_entities\n",
    "            \n",
    "            if has_targa or has_cf or has_vat:\n",
    "                targ_cf_vat_count += 1\n",
    "            else:\n",
    "                neither_targ_cf_vat_count += 1\n",
    "    \n",
    "    # Output dei risultati\n",
    "    print(f\"Righe totali: {total_rows}\")\n",
    "    \n",
    "    for entity, count in entity_counts.items():\n",
    "        print(f\"{entity} -> {count}\")\n",
    "    \n",
    "    print(\"\\nCombinazioni di entità trovate:\")\n",
    "    for combination, count in combination_counts.items():\n",
    "        print(f\"{combination} -> {count}\")\n",
    "    \n",
    "    print(\"\\nStatistiche specifiche:\")\n",
    "    print(f\"IT_VEHICLE_PLATE e/o IT_FISCAL_CODE e/o IT_VAT_CODE -> {targ_cf_vat_count} ({(targ_cf_vat_count / total_rows) * 100:.2f}%)\")\n",
    "    print(f\"Nessuno tra IT_VEHICLE_PLATE, IT_FISCAL_CODE, IT_VAT_CODE -> {neither_targ_cf_vat_count} ({(neither_targ_cf_vat_count / total_rows) * 100:.2f}%)\")\n",
    "    \n",
    "    # Creazione grafico a torta\n",
    "    labels = [\n",
    "        \"IT_VEHICLE_PLATE e/o IT_FISCAL_CODE e/o IT_VAT_CODE\",\n",
    "        \"Nessuno tra IT_VEHICLE_PLATE, IT_FISCAL_CODE, IT_VAT_CODE\"\n",
    "    ]\n",
    "    sizes = [targ_cf_vat_count, neither_targ_cf_vat_count]\n",
    "    colors = [\"#ff9999\", \"#66b3ff\"]\n",
    "    \n",
    "    plt.figure(figsize=(8, 6))\n",
    "    plt.pie(sizes, labels=labels, autopct=\"%.1f%%\", colors=colors, startangle=140)\n",
    "    plt.title(\"Distribuzione delle entità IT_VEHICLE_PLATE, IT_FISCAL_CODE e IT_VAT_CODE\")\n",
    "    plt.show()\n",
    "\n",
    "# Esegui la funzione sul file CSV\n",
    "analyze_csv(\"anonimizzati.csv\")"
   ]
  }
 ],
 "metadata": {
  "kernelspec": {
   "display_name": "Python 3 (ipykernel)",
   "language": "python",
   "name": "python3"
  },
  "language_info": {
   "codemirror_mode": {
    "name": "ipython",
    "version": 3
   },
   "file_extension": ".py",
   "mimetype": "text/x-python",
   "name": "python",
   "nbconvert_exporter": "python",
   "pygments_lexer": "ipython3",
   "version": "3.10.16"
  },
  "vscode": {
   "interpreter": {
    "hash": "b0fa6594d8f4cbf19f97940f81e996739fb7646882a419484c72d19e05852a7e"
   }
  }
 },
 "nbformat": 4,
 "nbformat_minor": 4
}
