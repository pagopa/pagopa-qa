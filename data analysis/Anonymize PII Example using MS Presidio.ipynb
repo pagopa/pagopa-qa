{
  "cells": [
    {
      "cell_type": "markdown",
      "metadata": {
        "id": "AJ7q4Qt2Szsf"
      },
      "source": [
        "# Esempio anonimizzazione dati con MS Presidio\n",
        "\n",
        "In questo notebook sono indicati degli esempi di utilizzo di MS Presidio per intercettare e anonimizzare dati PII"
      ]
    },
    {
      "cell_type": "markdown",
      "metadata": {
        "id": "WVovxtBgSzsg"
      },
      "source": [
        "## Caricamento librerie ed import recognizers"
      ]
    },
    {
      "cell_type": "code",
      "source": [
        "!pip install presidio-analyzer\n",
        "!pip install presidio_anonymizer"
      ],
      "metadata": {
        "colab": {
          "base_uri": "https://localhost:8080/"
        },
        "collapsed": true,
        "id": "fc9pxXKrgJca",
        "outputId": "8b60ccbd-9fc5-4c27-f44e-9b8c395abd73"
      },
      "execution_count": 20,
      "outputs": [
        {
          "output_type": "stream",
          "name": "stdout",
          "text": [
            "Requirement already satisfied: presidio-analyzer in /usr/local/lib/python3.11/dist-packages (2.2.358)\n",
            "Requirement already satisfied: phonenumbers<9.0.0,>=8.12 in /usr/local/lib/python3.11/dist-packages (from presidio-analyzer) (8.13.55)\n",
            "Requirement already satisfied: pyyaml in /usr/local/lib/python3.11/dist-packages (from presidio-analyzer) (6.0.2)\n",
            "Requirement already satisfied: regex in /usr/local/lib/python3.11/dist-packages (from presidio-analyzer) (2024.11.6)\n",
            "Requirement already satisfied: spacy!=3.7.0,<4.0.0,>=3.4.4 in /usr/local/lib/python3.11/dist-packages (from presidio-analyzer) (3.8.5)\n",
            "Requirement already satisfied: tldextract in /usr/local/lib/python3.11/dist-packages (from presidio-analyzer) (5.3.0)\n",
            "Requirement already satisfied: spacy-legacy<3.1.0,>=3.0.11 in /usr/local/lib/python3.11/dist-packages (from spacy!=3.7.0,<4.0.0,>=3.4.4->presidio-analyzer) (3.0.12)\n",
            "Requirement already satisfied: spacy-loggers<2.0.0,>=1.0.0 in /usr/local/lib/python3.11/dist-packages (from spacy!=3.7.0,<4.0.0,>=3.4.4->presidio-analyzer) (1.0.5)\n",
            "Requirement already satisfied: murmurhash<1.1.0,>=0.28.0 in /usr/local/lib/python3.11/dist-packages (from spacy!=3.7.0,<4.0.0,>=3.4.4->presidio-analyzer) (1.0.12)\n",
            "Requirement already satisfied: cymem<2.1.0,>=2.0.2 in /usr/local/lib/python3.11/dist-packages (from spacy!=3.7.0,<4.0.0,>=3.4.4->presidio-analyzer) (2.0.11)\n",
            "Requirement already satisfied: preshed<3.1.0,>=3.0.2 in /usr/local/lib/python3.11/dist-packages (from spacy!=3.7.0,<4.0.0,>=3.4.4->presidio-analyzer) (3.0.9)\n",
            "Requirement already satisfied: thinc<8.4.0,>=8.3.4 in /usr/local/lib/python3.11/dist-packages (from spacy!=3.7.0,<4.0.0,>=3.4.4->presidio-analyzer) (8.3.6)\n",
            "Requirement already satisfied: wasabi<1.2.0,>=0.9.1 in /usr/local/lib/python3.11/dist-packages (from spacy!=3.7.0,<4.0.0,>=3.4.4->presidio-analyzer) (1.1.3)\n",
            "Requirement already satisfied: srsly<3.0.0,>=2.4.3 in /usr/local/lib/python3.11/dist-packages (from spacy!=3.7.0,<4.0.0,>=3.4.4->presidio-analyzer) (2.5.1)\n",
            "Requirement already satisfied: catalogue<2.1.0,>=2.0.6 in /usr/local/lib/python3.11/dist-packages (from spacy!=3.7.0,<4.0.0,>=3.4.4->presidio-analyzer) (2.0.10)\n",
            "Requirement already satisfied: weasel<0.5.0,>=0.1.0 in /usr/local/lib/python3.11/dist-packages (from spacy!=3.7.0,<4.0.0,>=3.4.4->presidio-analyzer) (0.4.1)\n",
            "Requirement already satisfied: typer<1.0.0,>=0.3.0 in /usr/local/lib/python3.11/dist-packages (from spacy!=3.7.0,<4.0.0,>=3.4.4->presidio-analyzer) (0.15.2)\n",
            "Requirement already satisfied: tqdm<5.0.0,>=4.38.0 in /usr/local/lib/python3.11/dist-packages (from spacy!=3.7.0,<4.0.0,>=3.4.4->presidio-analyzer) (4.67.1)\n",
            "Requirement already satisfied: numpy>=1.19.0 in /usr/local/lib/python3.11/dist-packages (from spacy!=3.7.0,<4.0.0,>=3.4.4->presidio-analyzer) (2.0.2)\n",
            "Requirement already satisfied: requests<3.0.0,>=2.13.0 in /usr/local/lib/python3.11/dist-packages (from spacy!=3.7.0,<4.0.0,>=3.4.4->presidio-analyzer) (2.32.3)\n",
            "Requirement already satisfied: pydantic!=1.8,!=1.8.1,<3.0.0,>=1.7.4 in /usr/local/lib/python3.11/dist-packages (from spacy!=3.7.0,<4.0.0,>=3.4.4->presidio-analyzer) (2.11.3)\n",
            "Requirement already satisfied: jinja2 in /usr/local/lib/python3.11/dist-packages (from spacy!=3.7.0,<4.0.0,>=3.4.4->presidio-analyzer) (3.1.6)\n",
            "Requirement already satisfied: setuptools in /usr/local/lib/python3.11/dist-packages (from spacy!=3.7.0,<4.0.0,>=3.4.4->presidio-analyzer) (75.2.0)\n",
            "Requirement already satisfied: packaging>=20.0 in /usr/local/lib/python3.11/dist-packages (from spacy!=3.7.0,<4.0.0,>=3.4.4->presidio-analyzer) (24.2)\n",
            "Requirement already satisfied: langcodes<4.0.0,>=3.2.0 in /usr/local/lib/python3.11/dist-packages (from spacy!=3.7.0,<4.0.0,>=3.4.4->presidio-analyzer) (3.5.0)\n",
            "Requirement already satisfied: idna in /usr/local/lib/python3.11/dist-packages (from tldextract->presidio-analyzer) (3.10)\n",
            "Requirement already satisfied: requests-file>=1.4 in /usr/local/lib/python3.11/dist-packages (from tldextract->presidio-analyzer) (2.1.0)\n",
            "Requirement already satisfied: filelock>=3.0.8 in /usr/local/lib/python3.11/dist-packages (from tldextract->presidio-analyzer) (3.18.0)\n",
            "Requirement already satisfied: language-data>=1.2 in /usr/local/lib/python3.11/dist-packages (from langcodes<4.0.0,>=3.2.0->spacy!=3.7.0,<4.0.0,>=3.4.4->presidio-analyzer) (1.3.0)\n",
            "Requirement already satisfied: annotated-types>=0.6.0 in /usr/local/lib/python3.11/dist-packages (from pydantic!=1.8,!=1.8.1,<3.0.0,>=1.7.4->spacy!=3.7.0,<4.0.0,>=3.4.4->presidio-analyzer) (0.7.0)\n",
            "Requirement already satisfied: pydantic-core==2.33.1 in /usr/local/lib/python3.11/dist-packages (from pydantic!=1.8,!=1.8.1,<3.0.0,>=1.7.4->spacy!=3.7.0,<4.0.0,>=3.4.4->presidio-analyzer) (2.33.1)\n",
            "Requirement already satisfied: typing-extensions>=4.12.2 in /usr/local/lib/python3.11/dist-packages (from pydantic!=1.8,!=1.8.1,<3.0.0,>=1.7.4->spacy!=3.7.0,<4.0.0,>=3.4.4->presidio-analyzer) (4.13.2)\n",
            "Requirement already satisfied: typing-inspection>=0.4.0 in /usr/local/lib/python3.11/dist-packages (from pydantic!=1.8,!=1.8.1,<3.0.0,>=1.7.4->spacy!=3.7.0,<4.0.0,>=3.4.4->presidio-analyzer) (0.4.0)\n",
            "Requirement already satisfied: charset-normalizer<4,>=2 in /usr/local/lib/python3.11/dist-packages (from requests<3.0.0,>=2.13.0->spacy!=3.7.0,<4.0.0,>=3.4.4->presidio-analyzer) (3.4.1)\n",
            "Requirement already satisfied: urllib3<3,>=1.21.1 in /usr/local/lib/python3.11/dist-packages (from requests<3.0.0,>=2.13.0->spacy!=3.7.0,<4.0.0,>=3.4.4->presidio-analyzer) (2.4.0)\n",
            "Requirement already satisfied: certifi>=2017.4.17 in /usr/local/lib/python3.11/dist-packages (from requests<3.0.0,>=2.13.0->spacy!=3.7.0,<4.0.0,>=3.4.4->presidio-analyzer) (2025.1.31)\n",
            "Requirement already satisfied: blis<1.4.0,>=1.3.0 in /usr/local/lib/python3.11/dist-packages (from thinc<8.4.0,>=8.3.4->spacy!=3.7.0,<4.0.0,>=3.4.4->presidio-analyzer) (1.3.0)\n",
            "Requirement already satisfied: confection<1.0.0,>=0.0.1 in /usr/local/lib/python3.11/dist-packages (from thinc<8.4.0,>=8.3.4->spacy!=3.7.0,<4.0.0,>=3.4.4->presidio-analyzer) (0.1.5)\n",
            "Requirement already satisfied: click>=8.0.0 in /usr/local/lib/python3.11/dist-packages (from typer<1.0.0,>=0.3.0->spacy!=3.7.0,<4.0.0,>=3.4.4->presidio-analyzer) (8.1.8)\n",
            "Requirement already satisfied: shellingham>=1.3.0 in /usr/local/lib/python3.11/dist-packages (from typer<1.0.0,>=0.3.0->spacy!=3.7.0,<4.0.0,>=3.4.4->presidio-analyzer) (1.5.4)\n",
            "Requirement already satisfied: rich>=10.11.0 in /usr/local/lib/python3.11/dist-packages (from typer<1.0.0,>=0.3.0->spacy!=3.7.0,<4.0.0,>=3.4.4->presidio-analyzer) (13.9.4)\n",
            "Requirement already satisfied: cloudpathlib<1.0.0,>=0.7.0 in /usr/local/lib/python3.11/dist-packages (from weasel<0.5.0,>=0.1.0->spacy!=3.7.0,<4.0.0,>=3.4.4->presidio-analyzer) (0.21.0)\n",
            "Requirement already satisfied: smart-open<8.0.0,>=5.2.1 in /usr/local/lib/python3.11/dist-packages (from weasel<0.5.0,>=0.1.0->spacy!=3.7.0,<4.0.0,>=3.4.4->presidio-analyzer) (7.1.0)\n",
            "Requirement already satisfied: MarkupSafe>=2.0 in /usr/local/lib/python3.11/dist-packages (from jinja2->spacy!=3.7.0,<4.0.0,>=3.4.4->presidio-analyzer) (3.0.2)\n",
            "Requirement already satisfied: marisa-trie>=1.1.0 in /usr/local/lib/python3.11/dist-packages (from language-data>=1.2->langcodes<4.0.0,>=3.2.0->spacy!=3.7.0,<4.0.0,>=3.4.4->presidio-analyzer) (1.2.1)\n",
            "Requirement already satisfied: markdown-it-py>=2.2.0 in /usr/local/lib/python3.11/dist-packages (from rich>=10.11.0->typer<1.0.0,>=0.3.0->spacy!=3.7.0,<4.0.0,>=3.4.4->presidio-analyzer) (3.0.0)\n",
            "Requirement already satisfied: pygments<3.0.0,>=2.13.0 in /usr/local/lib/python3.11/dist-packages (from rich>=10.11.0->typer<1.0.0,>=0.3.0->spacy!=3.7.0,<4.0.0,>=3.4.4->presidio-analyzer) (2.19.1)\n",
            "Requirement already satisfied: wrapt in /usr/local/lib/python3.11/dist-packages (from smart-open<8.0.0,>=5.2.1->weasel<0.5.0,>=0.1.0->spacy!=3.7.0,<4.0.0,>=3.4.4->presidio-analyzer) (1.17.2)\n",
            "Requirement already satisfied: mdurl~=0.1 in /usr/local/lib/python3.11/dist-packages (from markdown-it-py>=2.2.0->rich>=10.11.0->typer<1.0.0,>=0.3.0->spacy!=3.7.0,<4.0.0,>=3.4.4->presidio-analyzer) (0.1.2)\n",
            "Requirement already satisfied: presidio_anonymizer in /usr/local/lib/python3.11/dist-packages (2.2.358)\n",
            "Requirement already satisfied: cryptography<44.1 in /usr/local/lib/python3.11/dist-packages (from presidio_anonymizer) (43.0.3)\n",
            "Requirement already satisfied: cffi>=1.12 in /usr/local/lib/python3.11/dist-packages (from cryptography<44.1->presidio_anonymizer) (1.17.1)\n",
            "Requirement already satisfied: pycparser in /usr/local/lib/python3.11/dist-packages (from cffi>=1.12->cryptography<44.1->presidio_anonymizer) (2.22)\n"
          ]
        }
      ]
    },
    {
      "cell_type": "code",
      "execution_count": 21,
      "metadata": {
        "scrolled": true,
        "id": "qZGte02oSzsh"
      },
      "outputs": [],
      "source": [
        "from presidio_analyzer import AnalyzerEngine\n",
        "from presidio_anonymizer import AnonymizerEngine\n",
        "from presidio_analyzer.nlp_engine import NlpEngineProvider\n",
        "from presidio_analyzer import PatternRecognizer, Pattern\n",
        "from presidio_anonymizer.entities import OperatorConfig, RecognizerResult"
      ]
    },
    {
      "cell_type": "code",
      "source": [],
      "metadata": {
        "id": "Aiet73PjTAdC"
      },
      "execution_count": 21,
      "outputs": []
    },
    {
      "cell_type": "markdown",
      "metadata": {
        "id": "Q-dDPqitSzsh"
      },
      "source": [
        "## Configurazione della lingua"
      ]
    },
    {
      "cell_type": "code",
      "execution_count": 22,
      "metadata": {
        "colab": {
          "base_uri": "https://localhost:8080/"
        },
        "id": "KbFgSORSSzsh",
        "outputId": "ac80f806-5393-4030-ce09-68efcb7c6f5c"
      },
      "outputs": [
        {
          "output_type": "stream",
          "name": "stderr",
          "text": [
            "WARNING:presidio-analyzer:model_to_presidio_entity_mapping is missing from configuration, using default\n",
            "WARNING:presidio-analyzer:low_score_entity_names is missing from configuration, using default\n",
            "WARNING:presidio-analyzer:labels_to_ignore is missing from configuration, using default\n"
          ]
        }
      ],
      "source": [
        "# NLP engine configuration (Spacy)\n",
        "nlp_config = {\n",
        "    \"nlp_engine_name\": \"spacy\",\n",
        "    \"models\": [{\"lang_code\": \"it\", \"model_name\": \"it_core_news_lg\"}],\n",
        "}\n",
        "provider = NlpEngineProvider(nlp_configuration=nlp_config)\n",
        "nlp_engine_with_italian = provider.create_engine()\n"
      ]
    },
    {
      "cell_type": "markdown",
      "metadata": {
        "id": "mchADhrcSzsh"
      },
      "source": [
        "## Definizione di un custom pattern per le targhe italiane"
      ]
    },
    {
      "cell_type": "code",
      "execution_count": 23,
      "metadata": {
        "id": "ar513WYUSzsh"
      },
      "outputs": [],
      "source": [
        "# Custom recognizer for Italian vehicle plates\n",
        "plate_pattern = Pattern(name=\"IT_VEHICLE_PLATE\", regex=r\"\\b([A-Z]{2}\\d{3}[A-Z]{2}|\\d{2}[A-Z]{2}\\d{2}|[A-Z]{2}\\d{5}|\\d{2}[A-Z]{3}\\d{2})\\b\", score=0.8)\n",
        "\n",
        "plate_recognizer = PatternRecognizer(patterns=[plate_pattern], supported_entity=\"IT_VEHICLE_PLATE\", name=\"IT_VEHICLE_PLATE\", supported_language=\"it\")\n"
      ]
    },
    {
      "cell_type": "markdown",
      "metadata": {
        "id": "_nnIOaBNSzsh"
      },
      "source": [
        "## Inizializzazione di Presidio"
      ]
    },
    {
      "cell_type": "code",
      "execution_count": 24,
      "metadata": {
        "colab": {
          "base_uri": "https://localhost:8080/"
        },
        "id": "68-4jCNASzsh",
        "outputId": "8bbd5932-5bdb-418c-99a0-2d1bce08d0c5"
      },
      "outputs": [
        {
          "output_type": "stream",
          "name": "stderr",
          "text": [
            "WARNING:presidio-analyzer:Recognizer not added to registry because language is not supported by registry - CreditCardRecognizer supported languages: es, registry supported languages: en, it\n",
            "WARNING:presidio-analyzer:Recognizer not added to registry because language is not supported by registry - CreditCardRecognizer supported languages: pl, registry supported languages: en, it\n",
            "WARNING:presidio-analyzer:Recognizer not added to registry because language is not supported by registry - EsNifRecognizer supported languages: es, registry supported languages: en, it\n",
            "WARNING:presidio-analyzer:Recognizer not added to registry because language is not supported by registry - EsNieRecognizer supported languages: es, registry supported languages: en, it\n",
            "WARNING:presidio-analyzer:Recognizer not added to registry because language is not supported by registry - PlPeselRecognizer supported languages: pl, registry supported languages: en, it\n"
          ]
        }
      ],
      "source": [
        "# Initialize Presidio with the custom recognizer\n",
        "analyzer = AnalyzerEngine(\n",
        "    supported_languages=[\"en\", \"it\"],\n",
        "    nlp_engine=nlp_engine_with_italian,\n",
        ")\n",
        "analyzer.registry.add_recognizer(plate_recognizer)\n",
        "\n",
        "anonymizer = AnonymizerEngine()\n",
        "\n",
        "# Entities to detect (including IT_VEHICLE_PLATE)\n",
        "entities = [\n",
        "    \"IT_VEHICLE_PLATE\",  # Include Italian vehicle plates\n",
        "    \"IT_FISCAL_CODE\",\n",
        "    \"IT_DRIVER_LICENSE\",\n",
        "    \"IT_VAT_CODE\",\n",
        "    \"IT_PASSPORT\",\n",
        "    \"IT_IDENTITY_CARD\",\n",
        "    \"CREDIT_CARD\",\n",
        "    \"DATE_TIME\",\n",
        "    \"EMAIL_ADDRESS\",\n",
        "    \"IBAN_CODE\",\n",
        "    \"PERSON\",\n",
        "    \"PHONE_NUMBER\",\n",
        "]"
      ]
    },
    {
      "cell_type": "markdown",
      "metadata": {
        "id": "6V40v6siSzsi"
      },
      "source": [
        "## Analyzer & Anonymizer"
      ]
    },
    {
      "cell_type": "code",
      "execution_count": 25,
      "metadata": {
        "scrolled": true,
        "colab": {
          "base_uri": "https://localhost:8080/"
        },
        "id": "1D0pxWPMSzsi",
        "outputId": "7b4e42f2-6ef9-48c3-ab94-0ea755eb3c89"
      },
      "outputs": [
        {
          "output_type": "stream",
          "name": "stderr",
          "text": [
            "WARNING:presidio-analyzer:Entity MISC is not mapped to a Presidio entity, but keeping anyway. Add to `NerModelConfiguration.labels_to_ignore` to remove.\n"
          ]
        },
        {
          "output_type": "stream",
          "name": "stdout",
          "text": [
            "Entity: IT_FISCAL_CODE, Start: 95, End: 111, Score: 1.0\n",
            "Extracted text: 'STCCST83A15L113V'\n",
            "--------------------------------\n",
            "--------------------------------\n",
            "Entity: PERSON, Start: 57, End: 73, Score: 0.85\n",
            "Extracted text: 'Cristiano Sticca'\n",
            "--------------------------------\n",
            "--------------------------------\n",
            "Entity: IT_VEHICLE_PLATE, Start: 26, End: 33, Score: 0.8\n",
            "Extracted text: 'AB123CD'\n",
            "--------------------------------\n",
            "--------------------------------\n",
            "Entity: DATE_TIME, Start: 82, End: 92, Score: 0.6\n",
            "Extracted text: '15/01/1983'\n",
            "--------------------------------\n",
            "--------------------------------\n",
            "La targa della mia auto è <IT_VEHICLE_PLATE> e il codice fiscale di <PERSON> nato il <DATE_TIME> è <IT_FISCAL_CODE>.\n",
            "--------------------------------\n",
            "--------------------------------\n",
            "Testo offuscato con caratteri *\n",
            "La targa della mia auto è AB123** e il codice fiscale di <PERSON> nato il <DATE_TIME> è STCCST**********.\n"
          ]
        }
      ],
      "source": [
        "# Example text\n",
        "text = \"La targa della mia auto è AB123CD e il codice fiscale di Cristiano Sticca nato il 15/01/1983 è STCCST83A15L113V.\"\n",
        "\n",
        "# Text analysis\n",
        "results = analyzer.analyze(text=text, entities=entities, language=\"it\")\n",
        "\n",
        "for result in results:\n",
        "    print(f\"Entity: {result.entity_type}, Start: {result.start}, End: {result.end}, Score: {result.score}\")\n",
        "    print(f\"Extracted text: '{text[result.start:result.end]}'\")\n",
        "    print(\"--------------------------------\")\n",
        "    print(\"--------------------------------\")\n",
        "\n",
        "# Text anonymization\n",
        "anonymized_result = anonymizer.anonymize(text, results)\n",
        "\n",
        "# Print anonymized text\n",
        "print(anonymized_result.text)\n",
        "print(\"--------------------------------\")\n",
        "print(\"--------------------------------\")\n",
        "\n",
        "# Define anonymization operators\n",
        "operators = {\n",
        "    \"IT_VEHICLE_PLATE\": OperatorConfig(\n",
        "        \"mask\",\n",
        "        {\n",
        "            \"type\": \"mask\",\n",
        "            \"masking_char\": \"*\",\n",
        "            \"chars_to_mask\": 2,\n",
        "            \"from_end\": True,\n",
        "        },\n",
        "    ),\n",
        "    \"IT_FISCAL_CODE\": OperatorConfig(\n",
        "        \"mask\",\n",
        "        {\n",
        "            \"type\": \"mask\",\n",
        "            \"masking_char\": \"*\",\n",
        "            \"chars_to_mask\": 10,\n",
        "            \"from_end\": True,\n",
        "        },\n",
        "    ),\n",
        "}\n",
        "\n",
        "# Text anonymization\n",
        "anonymized_result = anonymizer.anonymize(text, results,operators=operators)\n",
        "\n",
        "print(\"Testo offuscato con caratteri *\")\n",
        "\n",
        "# Print anonymized text\n",
        "print(anonymized_result.text)\n"
      ]
    },
    {
      "cell_type": "code",
      "execution_count": 25,
      "metadata": {
        "id": "ZK0X2IbBSzsi"
      },
      "outputs": [],
      "source": []
    }
  ],
  "metadata": {
    "kernelspec": {
      "display_name": "Python 3 (ipykernel)",
      "language": "python",
      "name": "python3"
    },
    "language_info": {
      "codemirror_mode": {
        "name": "ipython",
        "version": 3
      },
      "file_extension": ".py",
      "mimetype": "text/x-python",
      "name": "python",
      "nbconvert_exporter": "python",
      "pygments_lexer": "ipython3",
      "version": "3.10.16"
    },
    "vscode": {
      "interpreter": {
        "hash": "b0fa6594d8f4cbf19f97940f81e996739fb7646882a419484c72d19e05852a7e"
      }
    },
    "colab": {
      "provenance": []
    }
  },
  "nbformat": 4,
  "nbformat_minor": 0
}
