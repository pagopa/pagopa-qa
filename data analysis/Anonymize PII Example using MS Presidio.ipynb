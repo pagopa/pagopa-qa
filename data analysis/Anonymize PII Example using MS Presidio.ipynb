{
 "cells": [
  {
   "cell_type": "markdown",
   "metadata": {},
   "source": [
    "# Esempio anonimizzazione dati con MS Presidio\n",
    "\n",
    "In questo notebook sono indicati degli esempi di utilizzo di MS Presidio per intercettare e anonimizzare dati PII"
   ]
  },
  {
   "cell_type": "markdown",
   "metadata": {},
   "source": [
    "## Caricamento librerie ed import recognizers"
   ]
  },
  {
   "cell_type": "code",
   "execution_count": 1,
   "metadata": {
    "scrolled": true
   },
   "outputs": [],
   "source": [
    "from presidio_analyzer import AnalyzerEngine\n",
    "from presidio_anonymizer import AnonymizerEngine\n",
    "from presidio_analyzer.nlp_engine import NlpEngineProvider\n",
    "from presidio_analyzer import PatternRecognizer, Pattern\n",
    "from presidio_anonymizer.entities import OperatorConfig, RecognizerResult"
   ]
  },
  {
   "cell_type": "markdown",
   "metadata": {},
   "source": [
    "## Configurazione della lingua"
   ]
  },
  {
   "cell_type": "code",
   "execution_count": 3,
   "metadata": {},
   "outputs": [],
   "source": [
    "# NLP engine configuration (Spacy)\n",
    "nlp_config = {\n",
    "    \"nlp_engine_name\": \"spacy\",\n",
    "    \"models\": [{\"lang_code\": \"it\", \"model_name\": \"it_core_news_lg\"}],\n",
    "}\n",
    "provider = NlpEngineProvider(nlp_configuration=nlp_config)\n",
    "nlp_engine_with_italian = provider.create_engine()\n"
   ]
  },
  {
   "cell_type": "markdown",
   "metadata": {},
   "source": [
    "## Definizione di un custom pattern per le targhe italiane"
   ]
  },
  {
   "cell_type": "code",
   "execution_count": 4,
   "metadata": {},
   "outputs": [],
   "source": [
    "# Custom recognizer for Italian vehicle plates\n",
    "plate_pattern = Pattern(name=\"IT_VEHICLE_PLATE\", regex=r\"\\b([A-Z]{2}\\d{3}[A-Z]{2}|\\d{2}[A-Z]{2}\\d{2}|[A-Z]{2}\\d{5}|\\d{2}[A-Z]{3}\\d{2})\\b\", score=0.8)\n",
    "\n",
    "plate_recognizer = PatternRecognizer(patterns=[plate_pattern], supported_entity=\"IT_VEHICLE_PLATE\", name=\"IT_VEHICLE_PLATE\", supported_language=\"it\")\n"
   ]
  },
  {
   "cell_type": "markdown",
   "metadata": {},
   "source": [
    "## Inizializzazione di Presidio "
   ]
  },
  {
   "cell_type": "code",
   "execution_count": 5,
   "metadata": {},
   "outputs": [],
   "source": [
    "# Initialize Presidio with the custom recognizer\n",
    "analyzer = AnalyzerEngine(\n",
    "    supported_languages=[\"en\", \"it\"],\n",
    "    nlp_engine=nlp_engine_with_italian,\n",
    ")\n",
    "analyzer.registry.add_recognizer(plate_recognizer)\n",
    "\n",
    "anonymizer = AnonymizerEngine()\n",
    "\n",
    "# Entities to detect (including IT_VEHICLE_PLATE)\n",
    "entities = [\n",
    "    \"IT_VEHICLE_PLATE\",  # Include Italian vehicle plates\n",
    "    \"IT_FISCAL_CODE\",\n",
    "    \"IT_DRIVER_LICENSE\", \n",
    "    \"IT_VAT_CODE\",       \n",
    "    \"IT_PASSPORT\",       \n",
    "    \"IT_IDENTITY_CARD\",  \n",
    "    \"CREDIT_CARD\",       \n",
    "    \"DATE_TIME\",         \n",
    "    \"EMAIL_ADDRESS\",     \n",
    "    \"IBAN_CODE\",         \n",
    "    \"PERSON\",            \n",
    "    \"PHONE_NUMBER\",      \n",
    "]"
   ]
  },
  {
   "cell_type": "markdown",
   "metadata": {},
   "source": [
    "## Analyzer & Anonymizer"
   ]
  },
  {
   "cell_type": "code",
   "execution_count": 7,
   "metadata": {
    "scrolled": true
   },
   "outputs": [
    {
     "name": "stdout",
     "output_type": "stream",
     "text": [
      "Entity: IT_FISCAL_CODE, Start: 95, End: 111, Score: 1.0\n",
      "Extracted text: 'STCCST83A15L113V'\n",
      "--------------------------------\n",
      "--------------------------------\n",
      "Entity: PERSON, Start: 57, End: 73, Score: 0.85\n",
      "Extracted text: 'Cristiano Sticca'\n",
      "--------------------------------\n",
      "--------------------------------\n",
      "Entity: IT_VEHICLE_PLATE, Start: 26, End: 33, Score: 0.8\n",
      "Extracted text: 'AB123CD'\n",
      "--------------------------------\n",
      "--------------------------------\n",
      "Entity: DATE_TIME, Start: 82, End: 92, Score: 0.6\n",
      "Extracted text: '15/01/1983'\n",
      "--------------------------------\n",
      "--------------------------------\n",
      "La targa della mia auto è <IT_VEHICLE_PLATE> e il codice fiscale di <PERSON> nato il <DATE_TIME> è <IT_FISCAL_CODE>.\n",
      "--------------------------------\n",
      "--------------------------------\n",
      "Testo offuscato con caratteri *\n",
      "La targa della mia auto è AB123** e il codice fiscale di <PERSON> nato il <DATE_TIME> è STCCST**********.\n"
     ]
    }
   ],
   "source": [
    "# Example text\n",
    "text = \"La targa della mia auto è AB123CD e il codice fiscale di Cristiano Sticca nato il 15/01/1983 è STCCST83A15L113V.\"\n",
    "\n",
    "# Text analysis\n",
    "results = analyzer.analyze(text=text, entities=entities, language=\"it\")\n",
    "\n",
    "for result in results:\n",
    "    print(f\"Entity: {result.entity_type}, Start: {result.start}, End: {result.end}, Score: {result.score}\")\n",
    "    print(f\"Extracted text: '{text[result.start:result.end]}'\")\n",
    "    print(\"--------------------------------\")\n",
    "    print(\"--------------------------------\")\n",
    "\n",
    "# Text anonymization\n",
    "anonymized_result = anonymizer.anonymize(text, results)\n",
    "\n",
    "# Print anonymized text\n",
    "print(anonymized_result.text)\n",
    "print(\"--------------------------------\")\n",
    "print(\"--------------------------------\")\n",
    "\n",
    "# Define anonymization operators\n",
    "operators = {\n",
    "    \"IT_VEHICLE_PLATE\": OperatorConfig(\n",
    "        \"mask\",\n",
    "        {\n",
    "            \"type\": \"mask\",\n",
    "            \"masking_char\": \"*\",\n",
    "            \"chars_to_mask\": 2,\n",
    "            \"from_end\": True,\n",
    "        },\n",
    "    ),\n",
    "    \"IT_FISCAL_CODE\": OperatorConfig(\n",
    "        \"mask\",\n",
    "        {\n",
    "            \"type\": \"mask\",\n",
    "            \"masking_char\": \"*\",\n",
    "            \"chars_to_mask\": 10,\n",
    "            \"from_end\": True,\n",
    "        },\n",
    "    ),\n",
    "}\n",
    "\n",
    "# Text anonymization\n",
    "anonymized_result = anonymizer.anonymize(text, results,operators=operators)\n",
    "\n",
    "print(\"Testo offuscato con caratteri *\")\n",
    "\n",
    "# Print anonymized text\n",
    "print(anonymized_result.text)\n"
   ]
  },
  {
   "cell_type": "code",
   "execution_count": null,
   "metadata": {},
   "outputs": [],
   "source": []
  }
 ],
 "metadata": {
  "kernelspec": {
   "display_name": "Python 3 (ipykernel)",
   "language": "python",
   "name": "python3"
  },
  "language_info": {
   "codemirror_mode": {
    "name": "ipython",
    "version": 3
   },
   "file_extension": ".py",
   "mimetype": "text/x-python",
   "name": "python",
   "nbconvert_exporter": "python",
   "pygments_lexer": "ipython3",
   "version": "3.10.16"
  },
  "vscode": {
   "interpreter": {
    "hash": "b0fa6594d8f4cbf19f97940f81e996739fb7646882a419484c72d19e05852a7e"
   }
  }
 },
 "nbformat": 4,
 "nbformat_minor": 4
}
